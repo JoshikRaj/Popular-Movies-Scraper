{
 "cells": [
  {
   "cell_type": "code",
   "execution_count": 119,
   "id": "c06c474e",
   "metadata": {},
   "outputs": [],
   "source": [
    "import requests  # for sending request to the server\n",
    "\n",
    "import pandas as pd \n",
    "\n",
    "import os\n",
    "\n",
    "from bs4 import BeautifulSoup # for parsing the webcontents \n",
    "\n",
    "from tqdm import tqdm\n",
    "\n",
    "import datetime"
   ]
  },
  {
   "cell_type": "code",
   "execution_count": 134,
   "id": "a32eee52",
   "metadata": {},
   "outputs": [
    {
     "name": "stdout",
     "output_type": "stream",
     "text": [
      "Enter the Year from which you want to find the details :::2022\n"
     ]
    },
    {
     "name": "stderr",
     "output_type": "stream",
     "text": [
      "100%|██████████| 50/50 [00:00<00:00, 1411.69it/s]"
     ]
    },
    {
     "name": "stdout",
     "output_type": "stream",
     "text": [
      "TADA!!!! your mov details csv is stored in your current working python file directory \n"
     ]
    },
    {
     "name": "stderr",
     "output_type": "stream",
     "text": [
      "\n"
     ]
    }
   ],
   "source": [
    "Eyear=int(input(\"Enter the Year from which you want to find the details :::\")) \n",
    "\n",
    "# data time module provides the current year\n",
    "Current_year=datetime.datetime.now().year \n",
    "\n",
    "list=[]\n",
    "\n",
    "if Eyear>Current_year:\n",
    "    print(\"The Entered Year is beyond the Current year ---NO FILMS RELEASED\")\n",
    "else:\n",
    "    list=[]\n",
    "    # sending request to the imdb server\n",
    "    response=requests.get(\"http://www.imdb.com/search/title?release_date=\" + str(Eyear) + \",\" + str(Current_year) + \"&title_type=feature\")\n",
    "    \n",
    "    soul=BeautifulSoup(response.text,\"html.parser\")\n",
    "    \n",
    "    for eachmovie in tqdm(soup.find_all(\"div\",class_=\"lister-item mode-advanced\")):\n",
    "        try:\n",
    "            Title=eachmovie.find_all(\"a\")[1].text\n",
    "\n",
    "            Released_year=eachmovie.find(\"span\",class_=\"lister-item-year text-muted unbold\").text\n",
    "\n",
    "            mprating=eachmovie.find(\"span\",class_=\"certificate\").text\n",
    "\n",
    "            runtime=eachmovie.find(\"span\",class_=\"runtime\").text\n",
    "\n",
    "            genre=eachmovie.find(\"span\",class_=\"genre\").text.strip()\n",
    "\n",
    "            Audiencerating=eachmovie.find(\"strong\").text\n",
    "\n",
    "            moviedescription=eachmovie.find_all(\"p\",class_=\"text-muted\")[1].text.strip()\n",
    "\n",
    "            Director=eachmovie.find_all(\"p\",class_=\"\")[0].text.strip().split(\"\\n\")[1]\n",
    "\n",
    "            revenue=eachmovie.find_all(\"p\")[-1].find_all(\"span\")[-1].text\n",
    "            if \"$\"  in revenue:\n",
    "                revenue=revenue\n",
    "            else:\n",
    "                revenue=\"NOT FOUND\"\n",
    "\n",
    "            list.append([Title,Released_year,mprating,runtime,genre,Audiencerating,moviedescription,Director,revenue])\n",
    "        except:\n",
    "            pass\n",
    "        \n",
    "        \n",
    "print(\"TADA!!!! your mov details csv is stored in your current working python file directory \")\n",
    "\n",
    "# forming a data from the list , in list each elment contains the details of  each movie\n",
    "\n",
    "movdet=pd.DataFrame(list,columns=[\"Title\",\"Released_Year\",\"MPrating\",\"Runtime\",\"Genre\",\"AudienceRating\",\"Description\",\"Director\",\"Revenue\"])\n",
    "\n",
    "# creating a csv file in the cwd\n",
    "movdet.to_csv(\"movdet-pop-\"+str(Eyear)+\"-\"+str(Current_year)+\".csv\")"
   ]
  },
  {
   "cell_type": "code",
   "execution_count": null,
   "id": "234036ba",
   "metadata": {},
   "outputs": [],
   "source": []
  },
  {
   "cell_type": "code",
   "execution_count": null,
   "id": "0939cebf",
   "metadata": {},
   "outputs": [],
   "source": []
  },
  {
   "cell_type": "code",
   "execution_count": null,
   "id": "4ed3d618",
   "metadata": {},
   "outputs": [],
   "source": []
  },
  {
   "cell_type": "code",
   "execution_count": null,
   "id": "cfae5d2a",
   "metadata": {},
   "outputs": [],
   "source": []
  }
 ],
 "metadata": {
  "kernelspec": {
   "display_name": "Python 3 (ipykernel)",
   "language": "python",
   "name": "python3"
  },
  "language_info": {
   "codemirror_mode": {
    "name": "ipython",
    "version": 3
   },
   "file_extension": ".py",
   "mimetype": "text/x-python",
   "name": "python",
   "nbconvert_exporter": "python",
   "pygments_lexer": "ipython3",
   "version": "3.10.9"
  }
 },
 "nbformat": 4,
 "nbformat_minor": 5
}
